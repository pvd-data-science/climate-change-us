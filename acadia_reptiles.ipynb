{
 "cells": [
  {
   "cell_type": "code",
   "execution_count": 1,
   "metadata": {},
   "outputs": [],
   "source": [
    "import pandas as pd\n",
    "import geopandas as gpd\n",
    "from shapely.geometry import Point, Polygon\n",
    "import numpy as np\n",
    "import matplotlib.pyplot as plt\n",
    "%matplotlib inline\n",
    "\n",
    "path_US = 'Desktop/Data/tl_2017_us_state/tl_2017_us_state.shp'\n",
    "path = 'Desktop/Data/ClimateChangeUS/NPSpecies_Checklist_ACAD_20190311_210132.csv'"
   ]
  },
  {
   "cell_type": "code",
   "execution_count": 2,
   "metadata": {},
   "outputs": [
    {
     "ename": "DriverError",
     "evalue": "Desktop/Data/tl_2017_us_state/tl_2017_us_state.shp: No such file or directory",
     "output_type": "error",
     "traceback": [
      "\u001b[0;31m---------------------------------------------------------------------------\u001b[0m",
      "\u001b[0;31mCPLE_OpenFailedError\u001b[0m                      Traceback (most recent call last)",
      "\u001b[0;32mfiona/_shim.pyx\u001b[0m in \u001b[0;36mfiona._shim.gdal_open_vector\u001b[0;34m()\u001b[0m\n",
      "\u001b[0;32mfiona/_err.pyx\u001b[0m in \u001b[0;36mfiona._err.exc_wrap_pointer\u001b[0;34m()\u001b[0m\n",
      "\u001b[0;31mCPLE_OpenFailedError\u001b[0m: Desktop/Data/tl_2017_us_state/tl_2017_us_state.shp: No such file or directory",
      "\nDuring handling of the above exception, another exception occurred:\n",
      "\u001b[0;31mDriverError\u001b[0m                               Traceback (most recent call last)",
      "\u001b[0;32m<ipython-input-2-6912cd1feaee>\u001b[0m in \u001b[0;36m<module>\u001b[0;34m\u001b[0m\n\u001b[0;32m----> 1\u001b[0;31m \u001b[0mus\u001b[0m \u001b[0;34m=\u001b[0m \u001b[0mgpd\u001b[0m\u001b[0;34m.\u001b[0m\u001b[0mread_file\u001b[0m\u001b[0;34m(\u001b[0m\u001b[0mpath_US\u001b[0m\u001b[0;34m)\u001b[0m\u001b[0;34m\u001b[0m\u001b[0;34m\u001b[0m\u001b[0m\n\u001b[0m\u001b[1;32m      2\u001b[0m \u001b[0mus\u001b[0m\u001b[0;34m\u001b[0m\u001b[0;34m\u001b[0m\u001b[0m\n",
      "\u001b[0;32m/anaconda3/envs/cc_us/lib/python3.7/site-packages/geopandas/io/file.py\u001b[0m in \u001b[0;36mread_file\u001b[0;34m(filename, bbox, **kwargs)\u001b[0m\n\u001b[1;32m     69\u001b[0m \u001b[0;34m\u001b[0m\u001b[0m\n\u001b[1;32m     70\u001b[0m     \u001b[0;32mwith\u001b[0m \u001b[0mfiona_env\u001b[0m\u001b[0;34m(\u001b[0m\u001b[0;34m)\u001b[0m\u001b[0;34m:\u001b[0m\u001b[0;34m\u001b[0m\u001b[0;34m\u001b[0m\u001b[0m\n\u001b[0;32m---> 71\u001b[0;31m         \u001b[0;32mwith\u001b[0m \u001b[0mreader\u001b[0m\u001b[0;34m(\u001b[0m\u001b[0mpath_or_bytes\u001b[0m\u001b[0;34m,\u001b[0m \u001b[0;34m**\u001b[0m\u001b[0mkwargs\u001b[0m\u001b[0;34m)\u001b[0m \u001b[0;32mas\u001b[0m \u001b[0mfeatures\u001b[0m\u001b[0;34m:\u001b[0m\u001b[0;34m\u001b[0m\u001b[0;34m\u001b[0m\u001b[0m\n\u001b[0m\u001b[1;32m     72\u001b[0m             \u001b[0mcrs\u001b[0m \u001b[0;34m=\u001b[0m \u001b[0mfeatures\u001b[0m\u001b[0;34m.\u001b[0m\u001b[0mcrs\u001b[0m\u001b[0;34m\u001b[0m\u001b[0;34m\u001b[0m\u001b[0m\n\u001b[1;32m     73\u001b[0m             \u001b[0;32mif\u001b[0m \u001b[0mbbox\u001b[0m \u001b[0;32mis\u001b[0m \u001b[0;32mnot\u001b[0m \u001b[0;32mNone\u001b[0m\u001b[0;34m:\u001b[0m\u001b[0;34m\u001b[0m\u001b[0;34m\u001b[0m\u001b[0m\n",
      "\u001b[0;32m/anaconda3/envs/cc_us/lib/python3.7/site-packages/fiona/env.py\u001b[0m in \u001b[0;36mwrapper\u001b[0;34m(*args, **kwargs)\u001b[0m\n\u001b[1;32m    394\u001b[0m     \u001b[0;32mdef\u001b[0m \u001b[0mwrapper\u001b[0m\u001b[0;34m(\u001b[0m\u001b[0;34m*\u001b[0m\u001b[0margs\u001b[0m\u001b[0;34m,\u001b[0m \u001b[0;34m**\u001b[0m\u001b[0mkwargs\u001b[0m\u001b[0;34m)\u001b[0m\u001b[0;34m:\u001b[0m\u001b[0;34m\u001b[0m\u001b[0;34m\u001b[0m\u001b[0m\n\u001b[1;32m    395\u001b[0m         \u001b[0;32mif\u001b[0m \u001b[0mlocal\u001b[0m\u001b[0;34m.\u001b[0m\u001b[0m_env\u001b[0m\u001b[0;34m:\u001b[0m\u001b[0;34m\u001b[0m\u001b[0;34m\u001b[0m\u001b[0m\n\u001b[0;32m--> 396\u001b[0;31m             \u001b[0;32mreturn\u001b[0m \u001b[0mf\u001b[0m\u001b[0;34m(\u001b[0m\u001b[0;34m*\u001b[0m\u001b[0margs\u001b[0m\u001b[0;34m,\u001b[0m \u001b[0;34m**\u001b[0m\u001b[0mkwargs\u001b[0m\u001b[0;34m)\u001b[0m\u001b[0;34m\u001b[0m\u001b[0;34m\u001b[0m\u001b[0m\n\u001b[0m\u001b[1;32m    397\u001b[0m         \u001b[0;32melse\u001b[0m\u001b[0;34m:\u001b[0m\u001b[0;34m\u001b[0m\u001b[0;34m\u001b[0m\u001b[0m\n\u001b[1;32m    398\u001b[0m             \u001b[0;32mif\u001b[0m \u001b[0misinstance\u001b[0m\u001b[0;34m(\u001b[0m\u001b[0margs\u001b[0m\u001b[0;34m[\u001b[0m\u001b[0;36m0\u001b[0m\u001b[0;34m]\u001b[0m\u001b[0;34m,\u001b[0m \u001b[0mstr\u001b[0m\u001b[0;34m)\u001b[0m\u001b[0;34m:\u001b[0m\u001b[0;34m\u001b[0m\u001b[0;34m\u001b[0m\u001b[0m\n",
      "\u001b[0;32m/anaconda3/envs/cc_us/lib/python3.7/site-packages/fiona/__init__.py\u001b[0m in \u001b[0;36mopen\u001b[0;34m(fp, mode, driver, schema, crs, encoding, layer, vfs, enabled_drivers, crs_wkt, **kwargs)\u001b[0m\n\u001b[1;32m    251\u001b[0m         \u001b[0;32mif\u001b[0m \u001b[0mmode\u001b[0m \u001b[0;32min\u001b[0m \u001b[0;34m(\u001b[0m\u001b[0;34m'a'\u001b[0m\u001b[0;34m,\u001b[0m \u001b[0;34m'r'\u001b[0m\u001b[0;34m)\u001b[0m\u001b[0;34m:\u001b[0m\u001b[0;34m\u001b[0m\u001b[0;34m\u001b[0m\u001b[0m\n\u001b[1;32m    252\u001b[0m             c = Collection(path, mode, driver=driver, encoding=encoding,\n\u001b[0;32m--> 253\u001b[0;31m                            layer=layer, enabled_drivers=enabled_drivers, **kwargs)\n\u001b[0m\u001b[1;32m    254\u001b[0m         \u001b[0;32melif\u001b[0m \u001b[0mmode\u001b[0m \u001b[0;34m==\u001b[0m \u001b[0;34m'w'\u001b[0m\u001b[0;34m:\u001b[0m\u001b[0;34m\u001b[0m\u001b[0;34m\u001b[0m\u001b[0m\n\u001b[1;32m    255\u001b[0m             \u001b[0;32mif\u001b[0m \u001b[0mschema\u001b[0m\u001b[0;34m:\u001b[0m\u001b[0;34m\u001b[0m\u001b[0;34m\u001b[0m\u001b[0m\n",
      "\u001b[0;32m/anaconda3/envs/cc_us/lib/python3.7/site-packages/fiona/collection.py\u001b[0m in \u001b[0;36m__init__\u001b[0;34m(self, path, mode, driver, schema, crs, encoding, layer, vsi, archive, enabled_drivers, crs_wkt, ignore_fields, ignore_geometry, **kwargs)\u001b[0m\n\u001b[1;32m    157\u001b[0m             \u001b[0;32mif\u001b[0m \u001b[0mself\u001b[0m\u001b[0;34m.\u001b[0m\u001b[0mmode\u001b[0m \u001b[0;34m==\u001b[0m \u001b[0;34m'r'\u001b[0m\u001b[0;34m:\u001b[0m\u001b[0;34m\u001b[0m\u001b[0;34m\u001b[0m\u001b[0m\n\u001b[1;32m    158\u001b[0m                 \u001b[0mself\u001b[0m\u001b[0;34m.\u001b[0m\u001b[0msession\u001b[0m \u001b[0;34m=\u001b[0m \u001b[0mSession\u001b[0m\u001b[0;34m(\u001b[0m\u001b[0;34m)\u001b[0m\u001b[0;34m\u001b[0m\u001b[0;34m\u001b[0m\u001b[0m\n\u001b[0;32m--> 159\u001b[0;31m                 \u001b[0mself\u001b[0m\u001b[0;34m.\u001b[0m\u001b[0msession\u001b[0m\u001b[0;34m.\u001b[0m\u001b[0mstart\u001b[0m\u001b[0;34m(\u001b[0m\u001b[0mself\u001b[0m\u001b[0;34m,\u001b[0m \u001b[0;34m**\u001b[0m\u001b[0mkwargs\u001b[0m\u001b[0;34m)\u001b[0m\u001b[0;34m\u001b[0m\u001b[0;34m\u001b[0m\u001b[0m\n\u001b[0m\u001b[1;32m    160\u001b[0m             \u001b[0;32melif\u001b[0m \u001b[0mself\u001b[0m\u001b[0;34m.\u001b[0m\u001b[0mmode\u001b[0m \u001b[0;32min\u001b[0m \u001b[0;34m(\u001b[0m\u001b[0;34m'a'\u001b[0m\u001b[0;34m,\u001b[0m \u001b[0;34m'w'\u001b[0m\u001b[0;34m)\u001b[0m\u001b[0;34m:\u001b[0m\u001b[0;34m\u001b[0m\u001b[0;34m\u001b[0m\u001b[0m\n\u001b[1;32m    161\u001b[0m                 \u001b[0mself\u001b[0m\u001b[0;34m.\u001b[0m\u001b[0msession\u001b[0m \u001b[0;34m=\u001b[0m \u001b[0mWritingSession\u001b[0m\u001b[0;34m(\u001b[0m\u001b[0;34m)\u001b[0m\u001b[0;34m\u001b[0m\u001b[0;34m\u001b[0m\u001b[0m\n",
      "\u001b[0;32mfiona/ogrext.pyx\u001b[0m in \u001b[0;36mfiona.ogrext.Session.start\u001b[0;34m()\u001b[0m\n",
      "\u001b[0;32mfiona/_shim.pyx\u001b[0m in \u001b[0;36mfiona._shim.gdal_open_vector\u001b[0;34m()\u001b[0m\n",
      "\u001b[0;31mDriverError\u001b[0m: Desktop/Data/tl_2017_us_state/tl_2017_us_state.shp: No such file or directory"
     ]
    }
   ],
   "source": [
    "us = gpd.read_file(path_US)\n",
    "us"
   ]
  },
  {
   "cell_type": "code",
   "execution_count": null,
   "metadata": {},
   "outputs": [],
   "source": [
    "us.crs"
   ]
  },
  {
   "cell_type": "code",
   "execution_count": null,
   "metadata": {},
   "outputs": [],
   "source": [
    "df = gpd.read_file(path)\n",
    "df.head()"
   ]
  },
  {
   "cell_type": "code",
   "execution_count": null,
   "metadata": {},
   "outputs": [],
   "source": [
    "g = df.groupby('Category')\n",
    "g['Scientific Name'].count()"
   ]
  },
  {
   "cell_type": "code",
   "execution_count": null,
   "metadata": {},
   "outputs": [],
   "source": [
    "reptilesACAD = g.get_group('Reptile')\n",
    "reptilesACAD"
   ]
  },
  {
   "cell_type": "code",
   "execution_count": null,
   "metadata": {},
   "outputs": [],
   "source": [
    "path_RNSN = 'Desktop/Data/ClimateChangeUS/ACADreptiles/Ring_neckedSnak/rRNSNx_CONUS_Range_2001v1/rRNSNx_CONUS_Range_2001v1.shp'\n",
    "Diadophis_punctatus = gpd.read_file(path_RNSN) # Ringneck snake\n",
    "Diadophis_punctatus"
   ]
  },
  {
   "cell_type": "code",
   "execution_count": null,
   "metadata": {},
   "outputs": [],
   "source": [
    "Diadophis_punctatus.crs"
   ]
  },
  {
   "cell_type": "code",
   "execution_count": null,
   "metadata": {},
   "outputs": [],
   "source": [
    "# Change crs of Diadophis punctatus to match crs of basemap.\n",
    "Diadophis_punctatus = Diadophis_punctatus.to_crs({'init': 'epsg:4269'})\n",
    "Diadophis_punctatus.crs"
   ]
  },
  {
   "cell_type": "code",
   "execution_count": null,
   "metadata": {},
   "outputs": [],
   "source": [
    "path_MILK = 'Desktop/Data/ClimateChangeUS/ACADreptiles/Milksnake_Lampr/rMILKx_CONUS_Range_2001v1/rMILKx_CONUS_Range_2001v1.shp'\n",
    "Lampropeltis_triangulum = gpd.read_file(path_MILK) # Milksnake\n",
    "Lampropeltis_triangulum"
   ]
  },
  {
   "cell_type": "code",
   "execution_count": null,
   "metadata": {},
   "outputs": [],
   "source": [
    "Lampropeltis_triangulum = Lampropeltis_triangulum.to_crs({'init': 'epsg:4269'})\n",
    "Lampropeltis_triangulum.crs"
   ]
  },
  {
   "cell_type": "code",
   "execution_count": null,
   "metadata": {},
   "outputs": [],
   "source": [
    "path_SMGR = 'Desktop/Data/ClimateChangeUS/ACADreptiles/SmoothGreensnak/rSMGRx_CONUS_Range_2001v1/rSMGRx_CONUS_Range_2001v1.shp'\n",
    "Liochlorophis_vernalis = gpd.read_file(path_SMGR) # Smooth greensnake\n",
    "Liochlorophis_vernalis"
   ]
  },
  {
   "cell_type": "code",
   "execution_count": null,
   "metadata": {},
   "outputs": [],
   "source": [
    "Liochlorophis_vernalis = Liochlorophis_vernalis.to_crs({'init': 'epsg:4269'})\n",
    "Liochlorophis_vernalis.crs"
   ]
  },
  {
   "cell_type": "code",
   "execution_count": null,
   "metadata": {},
   "outputs": [],
   "source": [
    "path_RBSN = 'Desktop/Data/ClimateChangeUS/ACADreptiles/Red_belliedSnak/rRBSNx_CONUS_Range_2001v1/rRBSNx_CONUS_Range_2001v1.shp'\n",
    "Storeria_occipitomaculata = gpd.read_file(path_RBSN) # Red-bellied snake\n",
    "Storeria_occipitomaculata"
   ]
  },
  {
   "cell_type": "code",
   "execution_count": null,
   "metadata": {},
   "outputs": [],
   "source": [
    "Storeria_occipitomaculata = Storeria_occipitomaculata.to_crs({'init': 'epsg:4269'})\n",
    "Storeria_occipitomaculata.crs"
   ]
  },
  {
   "cell_type": "code",
   "execution_count": null,
   "metadata": {},
   "outputs": [],
   "source": [
    "path_COGA = 'Desktop/Data/ClimateChangeUS/ACADreptiles/CommonGartersna/rCOGAx_CONUS_Range_2001v1/rCOGAx_CONUS_Range_2001v1.shp'\n",
    "Thamnophis_sirtalis = gpd.read_file(path_COGA) # Common garter snake\n",
    "Thamnophis_sirtalis"
   ]
  },
  {
   "cell_type": "code",
   "execution_count": null,
   "metadata": {},
   "outputs": [],
   "source": [
    "Thamnophis_sirtalis = Thamnophis_sirtalis.to_crs({'init': 'epsg:4269'})\n",
    "Thamnophis_sirtalis.crs"
   ]
  },
  {
   "cell_type": "code",
   "execution_count": null,
   "metadata": {},
   "outputs": [],
   "source": [
    "path_SNTU = 'Desktop/Data/ClimateChangeUS/ACADreptiles/SnappingTurtle_/rSNTUx_CONUS_Range_2001v1/rSNTUx_CONUS_Range_2001v1.shp'\n",
    "Chelydra_serpentina = gpd.read_file(path_SNTU) # Snapping turtle\n",
    "Chelydra_serpentina"
   ]
  },
  {
   "cell_type": "code",
   "execution_count": null,
   "metadata": {},
   "outputs": [],
   "source": [
    "Chelydra_serpentina = Chelydra_serpentina.to_crs({'init': 'epsg:4269'})\n",
    "Chelydra_serpentina.crs"
   ]
  },
  {
   "cell_type": "code",
   "execution_count": null,
   "metadata": {},
   "outputs": [],
   "source": [
    "Chelydra_serpentina['geometry']"
   ]
  },
  {
   "cell_type": "code",
   "execution_count": null,
   "metadata": {},
   "outputs": [],
   "source": [
    "# Save each row of original Chelydra serpentina table under separate name.\n",
    "Chelydra_serpentina1 = Chelydra_serpentina.iloc[0]\n",
    "Chelydra_serpentina1"
   ]
  },
  {
   "cell_type": "code",
   "execution_count": null,
   "metadata": {},
   "outputs": [],
   "source": [
    "type(Chelydra_serpentina1)"
   ]
  },
  {
   "cell_type": "code",
   "execution_count": null,
   "metadata": {},
   "outputs": [],
   "source": [
    "Chelydra_serpentina2 = Chelydra_serpentina.iloc[1]\n",
    "Chelydra_serpentina2"
   ]
  },
  {
   "cell_type": "code",
   "execution_count": null,
   "metadata": {},
   "outputs": [],
   "source": [
    "# Modify species_id to distinguish sections of range.\n",
    "Chelydra_serpentina['species_id'].iloc[1] = 'SNTU2'\n",
    "Chelydra_serpentina"
   ]
  },
  {
   "cell_type": "code",
   "execution_count": null,
   "metadata": {},
   "outputs": [],
   "source": [
    "Chelydra_serpentina['species_id'].iloc[0] = 'SNTU1'\n",
    "Chelydra_serpentina"
   ]
  },
  {
   "cell_type": "code",
   "execution_count": null,
   "metadata": {},
   "outputs": [],
   "source": [
    "Chelydra_serpentina['present'].iloc[1] = 1\n",
    "Chelydra_serpentina"
   ]
  },
  {
   "cell_type": "code",
   "execution_count": null,
   "metadata": {},
   "outputs": [],
   "source": [
    "path_PATU = 'Desktop/Data/ClimateChangeUS/ACADreptiles/PaintedTurtle_C/rPATUx_CONUS_Range_2001v1/rPATUx_CONUS_Range_2001v1.shp'\n",
    "Chrysemys_picta = gpd.read_file(path_PATU) # Painted turtle\n",
    "Chrysemys_picta"
   ]
  },
  {
   "cell_type": "code",
   "execution_count": null,
   "metadata": {},
   "outputs": [],
   "source": [
    "Chrysemys_picta = Chrysemys_picta.to_crs({'init': 'epsg:4269'})\n",
    "Chrysemys_picta.crs"
   ]
  },
  {
   "cell_type": "code",
   "execution_count": null,
   "metadata": {},
   "outputs": [],
   "source": [
    "# Assign unique id to each section of species range.\n",
    "Chrysemys_picta['species_id'].iloc[0] = 'PATU1'\n",
    "Chrysemys_picta['species_id'].iloc[1] = 'PATU2'\n",
    "Chrysemys_picta"
   ]
  },
  {
   "cell_type": "code",
   "execution_count": null,
   "metadata": {},
   "outputs": [],
   "source": [
    "Chrysemys_picta['present'].iloc[1] = 1\n",
    "Chrysemys_picta"
   ]
  },
  {
   "cell_type": "code",
   "execution_count": null,
   "metadata": {},
   "outputs": [],
   "source": [
    "# Create DataFrame of several points in Maine.\n",
    "points_df = pd.DataFrame(\n",
    "    {'points': ['pt1', 'pt2', 'pt3', 'pt4', 'pt5', 'pt6'],\n",
    "    'Latitude': [44, 45, 45, 45, 46, 46],\n",
    "    'Longitude': [-69, -68, -69, -70, -69, -68]})"
   ]
  },
  {
   "cell_type": "code",
   "execution_count": null,
   "metadata": {},
   "outputs": [],
   "source": [
    "points_geometry = [Point(xy) for xy in zip(points_df[\"Longitude\"], points_df[\"Latitude\"])]\n",
    "points_geometry"
   ]
  },
  {
   "cell_type": "code",
   "execution_count": null,
   "metadata": {},
   "outputs": [],
   "source": [
    "points_gdf = gpd.GeoDataFrame(\n",
    "    points_df, crs={'init': 'epsg:4269'}, geometry=points_geometry)\n",
    "points_gdf"
   ]
  },
  {
   "cell_type": "code",
   "execution_count": null,
   "metadata": {},
   "outputs": [],
   "source": [
    "# Check to make sure points plot correctly.\n",
    "fig, ax = plt.subplots()\n",
    "ax.set(xlim=(-72,-66), ylim=(42,48)) # Narrow limits because focus will be on Maine.\n",
    "us.plot(figsize=(10,8), ax=ax, color='white', edgecolor='black')\n",
    "points_gdf.plot(ax=ax, color='green')"
   ]
  },
  {
   "cell_type": "code",
   "execution_count": null,
   "metadata": {},
   "outputs": [],
   "source": [
    "# Merge Diadophis_punctatus multipolygon with the points in points_gdf\n",
    "temp_pts_gdf = gpd.sjoin(points_gdf, Diadophis_punctatus, how='left', op='intersects')\n",
    "temp_pts_gdf"
   ]
  },
  {
   "cell_type": "code",
   "execution_count": null,
   "metadata": {},
   "outputs": [],
   "source": [
    "temp_pts_gdf2 = gpd.sjoin(points_gdf, Lampropeltis_triangulum, how='left', op='intersects')\n",
    "temp_pts_gdf2"
   ]
  },
  {
   "cell_type": "code",
   "execution_count": null,
   "metadata": {},
   "outputs": [],
   "source": [
    "temp_pts_gdf3 = gpd.sjoin(points_gdf, Liochlorophis_vernalis, how='left', op='intersects')\n",
    "temp_pts_gdf3"
   ]
  },
  {
   "cell_type": "code",
   "execution_count": null,
   "metadata": {},
   "outputs": [],
   "source": [
    "temp_pts_gdf4 = gpd.sjoin(points_gdf, Storeria_occipitomaculata, how='left', op='intersects')\n",
    "temp_pts_gdf4"
   ]
  },
  {
   "cell_type": "code",
   "execution_count": null,
   "metadata": {},
   "outputs": [],
   "source": [
    "temp_pts_gdf5 = gpd.sjoin(points_gdf, Thamnophis_sirtalis, how='left', op='intersects')\n",
    "temp_pts_gdf5"
   ]
  },
  {
   "cell_type": "code",
   "execution_count": null,
   "metadata": {},
   "outputs": [],
   "source": [
    "temp_pts_gdf6 = gpd.sjoin(points_gdf, Chelydra_serpentina, how='left', op='intersects')\n",
    "temp_pts_gdf6"
   ]
  },
  {
   "cell_type": "code",
   "execution_count": null,
   "metadata": {},
   "outputs": [],
   "source": [
    "temp_pts_gdf7 = gpd.sjoin(points_gdf, Chrysemys_picta, how='left', op='intersects')\n",
    "temp_pts_gdf7"
   ]
  },
  {
   "cell_type": "code",
   "execution_count": null,
   "metadata": {},
   "outputs": [],
   "source": [
    "pts_dataFrames_list = [temp_pts_gdf, temp_pts_gdf2, temp_pts_gdf3, temp_pts_gdf4, temp_pts_gdf5, temp_pts_gdf6,\n",
    "                      temp_pts_gdf7]\n",
    "# Concatenate dataFrames to get total number of species overlapping each point.\n",
    "new_pts_gdf = pd.concat(pts_dataFrames_list)\n",
    "new_pts_gdf"
   ]
  },
  {
   "cell_type": "code",
   "execution_count": null,
   "metadata": {},
   "outputs": [],
   "source": [
    "type(new_pts_gdf)"
   ]
  },
  {
   "cell_type": "code",
   "execution_count": null,
   "metadata": {},
   "outputs": [],
   "source": [
    "by_pt = new_pts_gdf.groupby('points')\n",
    "by_pt"
   ]
  },
  {
   "cell_type": "code",
   "execution_count": null,
   "metadata": {},
   "outputs": [],
   "source": [
    "# Print all the dataFrames grouped by point\n",
    "for pt, pt_df in by_pt:\n",
    "    print(pt)\n",
    "    print(pt_df)"
   ]
  },
  {
   "cell_type": "code",
   "execution_count": null,
   "metadata": {},
   "outputs": [],
   "source": [
    "# Add total number of reptile species present at each point and save as variable.\n",
    "reptiles_total_species2 = by_pt['present'].sum()\n",
    "reptiles_total_species2"
   ]
  },
  {
   "cell_type": "code",
   "execution_count": null,
   "metadata": {},
   "outputs": [],
   "source": [
    "type(reptiles_total_species2)"
   ]
  },
  {
   "cell_type": "code",
   "execution_count": null,
   "metadata": {},
   "outputs": [],
   "source": [
    "species_perPoint = reptiles_total_species2.to_frame()\n",
    "species_perPoint"
   ]
  },
  {
   "cell_type": "code",
   "execution_count": null,
   "metadata": {},
   "outputs": [],
   "source": [
    "type(species_perPoint['present'].iloc[0])"
   ]
  },
  {
   "cell_type": "code",
   "execution_count": null,
   "metadata": {},
   "outputs": [],
   "source": [
    "species_perPoint.index"
   ]
  },
  {
   "cell_type": "code",
   "execution_count": null,
   "metadata": {},
   "outputs": [],
   "source": [
    "reptiles_total = species_perPoint['present'].tolist()\n",
    "reptiles_total"
   ]
  },
  {
   "cell_type": "code",
   "execution_count": null,
   "metadata": {},
   "outputs": [],
   "source": [
    "species_perPoint_new = pd.DataFrame(\n",
    "    {'points': ['pt1', 'pt2', 'pt3', 'pt4', 'pt5', 'pt6'], \n",
    "     'reptiles_total': reptiles_total})\n",
    "species_perPoint_new"
   ]
  },
  {
   "cell_type": "code",
   "execution_count": null,
   "metadata": {},
   "outputs": [],
   "source": [
    "points_gdf = points_gdf.merge(species_perPoint_new, on='points')\n",
    "points_gdf"
   ]
  },
  {
   "cell_type": "code",
   "execution_count": null,
   "metadata": {},
   "outputs": [],
   "source": [
    "# Plot complete_gdf which contains ACAD centroid plus the additional points.\n",
    "fig, ax = plt.subplots()\n",
    "ax.set(xlim=(-72,-66), ylim=(42,48)) # Narrow limits because focus will be on Maine.\n",
    "us.plot(figsize=(10,8), ax=ax, color='white', edgecolor='black')\n",
    "points_gdf.plot(column='reptiles_total', ax=ax, cmap=plt.cm.get_cmap('tab20b', 10), legend=True, \n",
    "                       vmin=0, vmax=10)"
   ]
  },
  {
   "cell_type": "code",
   "execution_count": null,
   "metadata": {},
   "outputs": [],
   "source": [
    "# Get long values to set up grid of points spaced 0.1 degrees apart.\n",
    "def tenths_x(xmin, xmax):\n",
    "    num_x = ((xmax - xmin) * 10) + 1\n",
    "    x_values = np.linspace(xmin, xmax, num_x)\n",
    "    return x_values\n",
    "\n",
    "long_values = tenths_x(-72, -66)\n",
    "long_values"
   ]
  },
  {
   "cell_type": "code",
   "execution_count": null,
   "metadata": {},
   "outputs": [],
   "source": [
    "# Get latitude values spaced 0.1 degrees apart to set up grid.\n",
    "def tenths_y(ymin, ymax):\n",
    "    num_y = ((ymax - ymin) * 10) + 1\n",
    "    y_values = np.linspace(ymin, ymax, num_y)\n",
    "    return y_values\n",
    "\n",
    "lat_values = tenths_y(42, 48)\n",
    "lat_values"
   ]
  },
  {
   "cell_type": "code",
   "execution_count": null,
   "metadata": {},
   "outputs": [],
   "source": [
    "# The full array of long values will need to repeat for each lat value.\n",
    "x_complete = np.repeat(long_values, len(lat_values))\n",
    "print(x_complete)"
   ]
  },
  {
   "cell_type": "code",
   "execution_count": null,
   "metadata": {},
   "outputs": [],
   "source": [
    "len(x_complete)"
   ]
  },
  {
   "cell_type": "code",
   "execution_count": null,
   "metadata": {},
   "outputs": [],
   "source": [
    "# Tile the y array (i.e. lat values) so that full range of lat values get matched to each long value.\n",
    "y_complete = np.tile(lat_values, len(long_values))\n",
    "print(y_complete)"
   ]
  },
  {
   "cell_type": "code",
   "execution_count": null,
   "metadata": {},
   "outputs": [],
   "source": [
    "len(y_complete)"
   ]
  },
  {
   "cell_type": "code",
   "execution_count": null,
   "metadata": {},
   "outputs": [],
   "source": [
    "grid = pd.DataFrame(\n",
    "    {'longitude': x_complete,\n",
    "    'latitude': y_complete})\n",
    "grid.head(30)"
   ]
  },
  {
   "cell_type": "code",
   "execution_count": null,
   "metadata": {},
   "outputs": [],
   "source": [
    "grid_geometry = [Point(x, y) for x, y in zip(grid['longitude'], grid['latitude'])]\n",
    "grid_gdf = gpd.GeoDataFrame(\n",
    "    grid, crs={'init': 'epsg:4269'}, geometry=grid_geometry)\n",
    "grid_gdf.head(30)"
   ]
  },
  {
   "cell_type": "code",
   "execution_count": null,
   "metadata": {},
   "outputs": [],
   "source": [
    "# Check to make sure points plot correctly.\n",
    "fig, ax = plt.subplots()\n",
    "ax.set(xlim=(-73,-65), ylim=(41,49)) # Broaden limits from previous to ensure all points are visible.\n",
    "us.plot(figsize=(10,8), ax=ax, color='white', edgecolor='black')\n",
    "grid_gdf.plot(ax=ax, color='red')"
   ]
  },
  {
   "cell_type": "code",
   "execution_count": null,
   "metadata": {},
   "outputs": [],
   "source": [
    "# Merge Diadophis_punctatus multipolygon with the points in points_gdf\n",
    "temp_grid1_gdf = gpd.sjoin(grid_gdf, Diadophis_punctatus, how='left', op='intersects')\n",
    "temp_grid1_gdf.head()"
   ]
  },
  {
   "cell_type": "code",
   "execution_count": null,
   "metadata": {},
   "outputs": [],
   "source": [
    "species_list = reptilesACAD['Scientific Name']\n",
    "species_list"
   ]
  },
  {
   "cell_type": "code",
   "execution_count": null,
   "metadata": {},
   "outputs": [],
   "source": [
    "temp_grid2_gdf = gpd.sjoin(grid_gdf, Lampropeltis_triangulum, how='left', op='intersects')\n",
    "temp_grid2_gdf.head()"
   ]
  },
  {
   "cell_type": "code",
   "execution_count": null,
   "metadata": {},
   "outputs": [],
   "source": [
    "temp_grid3_gdf = gpd.sjoin(grid_gdf, Liochlorophis_vernalis, how='left', op='intersects')\n",
    "temp_grid3_gdf.head()"
   ]
  },
  {
   "cell_type": "code",
   "execution_count": null,
   "metadata": {},
   "outputs": [],
   "source": [
    "temp_grid4_gdf = gpd.sjoin(grid_gdf, Storeria_occipitomaculata, how='left', op='intersects')\n",
    "temp_grid4_gdf.head()"
   ]
  },
  {
   "cell_type": "code",
   "execution_count": null,
   "metadata": {},
   "outputs": [],
   "source": [
    "temp_grid5_gdf = gpd.sjoin(grid_gdf, Thamnophis_sirtalis, how='left', op='intersects')\n",
    "temp_grid5_gdf.head()"
   ]
  },
  {
   "cell_type": "code",
   "execution_count": null,
   "metadata": {},
   "outputs": [],
   "source": [
    "temp_grid6_gdf = gpd.sjoin(grid_gdf, Chelydra_serpentina, how='left', op='intersects')\n",
    "temp_grid6_gdf.head()"
   ]
  },
  {
   "cell_type": "code",
   "execution_count": null,
   "metadata": {},
   "outputs": [],
   "source": [
    "temp_grid7_gdf = gpd.sjoin(grid_gdf, Chrysemys_picta, how='left', op='intersects')\n",
    "temp_grid7_gdf.head()"
   ]
  },
  {
   "cell_type": "code",
   "execution_count": null,
   "metadata": {},
   "outputs": [],
   "source": [
    "temp_gdfs_list = [temp_grid1_gdf, temp_grid2_gdf, temp_grid3_gdf, temp_grid4_gdf, temp_grid5_gdf, temp_grid6_gdf, \n",
    "                  temp_grid7_gdf]\n",
    "gdf_full = pd.concat(temp_gdfs_list)\n",
    "gdf_full.head(10)"
   ]
  },
  {
   "cell_type": "code",
   "execution_count": null,
   "metadata": {},
   "outputs": [],
   "source": [
    "type(gdf_full['longitude'][0])"
   ]
  },
  {
   "cell_type": "code",
   "execution_count": null,
   "metadata": {},
   "outputs": [],
   "source": [
    "gpd_full_grouped = pd.concat(temp_gdfs_list).groupby(['longitude', 'latitude'])"
   ]
  },
  {
   "cell_type": "code",
   "execution_count": null,
   "metadata": {},
   "outputs": [],
   "source": [
    "gpd_full_grouped.get_group((-72.0, 42.0))"
   ]
  },
  {
   "cell_type": "code",
   "execution_count": null,
   "metadata": {},
   "outputs": [],
   "source": [
    "totals_by_pt = gpd_full_grouped['present'].sum()\n",
    "totals_by_pt.head()"
   ]
  },
  {
   "cell_type": "code",
   "execution_count": null,
   "metadata": {},
   "outputs": [],
   "source": [
    "type(totals_by_pt)"
   ]
  },
  {
   "cell_type": "code",
   "execution_count": null,
   "metadata": {},
   "outputs": [],
   "source": [
    "totals_by_pt_df = totals_by_pt.to_frame()\n",
    "totals_by_pt_df.head()"
   ]
  },
  {
   "cell_type": "code",
   "execution_count": null,
   "metadata": {},
   "outputs": [],
   "source": [
    "totals_by_pt_df.dtypes"
   ]
  },
  {
   "cell_type": "code",
   "execution_count": null,
   "metadata": {},
   "outputs": [],
   "source": [
    "final_gdf = grid_gdf.merge(totals_by_pt_df, on=['longitude', 'latitude'])\n",
    "final_gdf.head(10)"
   ]
  },
  {
   "cell_type": "code",
   "execution_count": null,
   "metadata": {},
   "outputs": [],
   "source": [
    "# Plot final_gdf, where 'present' column now represents total number of species at each point in grid.\n",
    "fig, ax = plt.subplots()\n",
    "ax.set(xlim=(-73,-65), ylim=(41,49)) \n",
    "us.plot(figsize=(10,8), ax=ax, color='white', edgecolor='black')\n",
    "final_gdf.plot(column='present', ax=ax, cmap=plt.cm.get_cmap('tab20b', 10), legend=True, \n",
    "                       vmin=0, vmax=10)"
   ]
  },
  {
   "cell_type": "code",
   "execution_count": null,
   "metadata": {},
   "outputs": [],
   "source": []
  }
 ],
 "metadata": {
  "kernelspec": {
   "display_name": "Python 3",
   "language": "python",
   "name": "python3"
  },
  "language_info": {
   "codemirror_mode": {
    "name": "ipython",
    "version": 3
   },
   "file_extension": ".py",
   "mimetype": "text/x-python",
   "name": "python",
   "nbconvert_exporter": "python",
   "pygments_lexer": "ipython3",
   "version": "3.7.3"
  }
 },
 "nbformat": 4,
 "nbformat_minor": 2
}
